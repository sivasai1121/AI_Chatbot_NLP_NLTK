{
  "nbformat": 4,
  "nbformat_minor": 0,
  "metadata": {
    "colab": {
      "provenance": []
    },
    "kernelspec": {
      "name": "python3",
      "display_name": "Python 3"
    },
    "language_info": {
      "name": "python"
    }
  },
  "cells": [
    {
      "cell_type": "code",
      "execution_count": null,
      "metadata": {
        "id": "6xk3Jvk6krNs"
      },
      "outputs": [],
      "source": [
        "# nltk_chatbot.py\n",
        "from nltk.chat.util import Chat, reflections\n",
        "\n",
        "# Define patterns and responses\n",
        "pairs = [\n",
        "    [\n",
        "        r\"hi|hello|hey\",\n",
        "        [\"Hello!\", \"Hi there!\", \"Hey! How can I help you?\"]\n",
        "    ],\n",
        "    [\n",
        "        r\"what is your name ?\",\n",
        "        [\"I am a simple NLP chatbot using NLTK.\"]\n",
        "    ],\n",
        "    [\n",
        "        r\"how are you ?\",\n",
        "        [\"I'm doing great, thanks for asking!\", \"I'm fine. How about you?\"]\n",
        "    ],\n",
        "    [\n",
        "        r\"what can you do ?\",\n",
        "        [\"I can answer simple questions, greet you, and be your chat companion.\"]\n",
        "    ],\n",
        "    [\n",
        "        r\"who created you ?\",\n",
        "        [\"I was created using Python and the NLTK library.\"]\n",
        "    ],\n",
        "    [\n",
        "        r\"(.*) your creator ?\",\n",
        "        [\"My creator is a Python developer interested in NLP.\"]\n",
        "    ],\n",
        "    [\n",
        "        r\"quit|exit|bye\",\n",
        "        [\"Goodbye!\", \"See you later!\", \"Bye! Have a nice day!\"]\n",
        "    ],\n",
        "    [\n",
        "        r\"(.*)\",\n",
        "        [\"Sorry, I didn’t understand that. Can you rephrase?\"]\n",
        "    ]\n",
        "]\n",
        "\n",
        "# Create chatbot\n",
        "def start_chatbot():\n",
        "    print(\"Hi! I'm your chatbot. Type 'quit' to exit.\")\n",
        "    chat = Chat(pairs, reflections)\n",
        "    chat.converse()\n",
        "\n",
        "if __name__ == \"__main__\":\n",
        "    start_chatbot()"
      ]
    }
  ]
}